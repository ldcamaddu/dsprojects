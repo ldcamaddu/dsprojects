{
 "cells": [
  {
   "cell_type": "markdown",
   "id": "2f3ac312-d764-4c90-9b9b-91e6102eb1e8",
   "metadata": {},
   "source": [
    "## Importing Packages"
   ]
  },
  {
   "cell_type": "code",
   "execution_count": 1,
   "id": "8838ff00-88a0-4ecc-9f59-493d5ec5aee8",
   "metadata": {},
   "outputs": [],
   "source": [
    "import pandas as pd"
   ]
  },
  {
   "cell_type": "markdown",
   "id": "c1f9e409-5cd2-47a5-8bea-7f3b19d74db5",
   "metadata": {},
   "source": [
    "## Data Loading"
   ]
  },
  {
   "cell_type": "code",
   "execution_count": 2,
   "id": "bbf46b01-cb06-4170-94e1-7c3a61d3c5c1",
   "metadata": {},
   "outputs": [],
   "source": [
    "df = pd.read_csv(\"dataset/loan.csv\") # loading the dataset \"loan.csv\""
   ]
  },
  {
   "cell_type": "code",
   "execution_count": 3,
   "id": "1835c383-e03f-46d5-8b48-e7aeba0f693c",
   "metadata": {},
   "outputs": [
    {
     "data": {
      "text/html": [
       "<div>\n",
       "<style scoped>\n",
       "    .dataframe tbody tr th:only-of-type {\n",
       "        vertical-align: middle;\n",
       "    }\n",
       "\n",
       "    .dataframe tbody tr th {\n",
       "        vertical-align: top;\n",
       "    }\n",
       "\n",
       "    .dataframe thead th {\n",
       "        text-align: right;\n",
       "    }\n",
       "</style>\n",
       "<table border=\"1\" class=\"dataframe\">\n",
       "  <thead>\n",
       "    <tr style=\"text-align: right;\">\n",
       "      <th></th>\n",
       "      <th>loan_type</th>\n",
       "      <th>loan_amount</th>\n",
       "      <th>interest_rate</th>\n",
       "      <th>loan_term</th>\n",
       "      <th>employment_type</th>\n",
       "      <th>income_level</th>\n",
       "      <th>credit_score</th>\n",
       "      <th>gender</th>\n",
       "      <th>marital_status</th>\n",
       "      <th>education_level</th>\n",
       "      <th>default_status</th>\n",
       "    </tr>\n",
       "  </thead>\n",
       "  <tbody>\n",
       "    <tr>\n",
       "      <th>0</th>\n",
       "      <td>Car Loan</td>\n",
       "      <td>16795</td>\n",
       "      <td>0.051852</td>\n",
       "      <td>15</td>\n",
       "      <td>Self-employed</td>\n",
       "      <td>Medium</td>\n",
       "      <td>833</td>\n",
       "      <td>Male</td>\n",
       "      <td>Single</td>\n",
       "      <td>Master</td>\n",
       "      <td>0</td>\n",
       "    </tr>\n",
       "    <tr>\n",
       "      <th>1</th>\n",
       "      <td>Personal Loan</td>\n",
       "      <td>1860</td>\n",
       "      <td>0.089296</td>\n",
       "      <td>56</td>\n",
       "      <td>Full-time</td>\n",
       "      <td>Medium</td>\n",
       "      <td>776</td>\n",
       "      <td>Female</td>\n",
       "      <td>Married</td>\n",
       "      <td>Bachelor</td>\n",
       "      <td>0</td>\n",
       "    </tr>\n",
       "    <tr>\n",
       "      <th>2</th>\n",
       "      <td>Personal Loan</td>\n",
       "      <td>77820</td>\n",
       "      <td>0.070470</td>\n",
       "      <td>51</td>\n",
       "      <td>Full-time</td>\n",
       "      <td>Low</td>\n",
       "      <td>697</td>\n",
       "      <td>Male</td>\n",
       "      <td>Divorced</td>\n",
       "      <td>High School</td>\n",
       "      <td>0</td>\n",
       "    </tr>\n",
       "    <tr>\n",
       "      <th>3</th>\n",
       "      <td>Car Loan</td>\n",
       "      <td>55886</td>\n",
       "      <td>0.062155</td>\n",
       "      <td>30</td>\n",
       "      <td>Full-time</td>\n",
       "      <td>Low</td>\n",
       "      <td>795</td>\n",
       "      <td>Female</td>\n",
       "      <td>Married</td>\n",
       "      <td>PhD</td>\n",
       "      <td>0</td>\n",
       "    </tr>\n",
       "    <tr>\n",
       "      <th>4</th>\n",
       "      <td>Home Loan</td>\n",
       "      <td>7265</td>\n",
       "      <td>0.070635</td>\n",
       "      <td>48</td>\n",
       "      <td>Part-time</td>\n",
       "      <td>Low</td>\n",
       "      <td>519</td>\n",
       "      <td>Female</td>\n",
       "      <td>Married</td>\n",
       "      <td>High School</td>\n",
       "      <td>0</td>\n",
       "    </tr>\n",
       "  </tbody>\n",
       "</table>\n",
       "</div>"
      ],
      "text/plain": [
       "       loan_type  loan_amount  interest_rate  loan_term employment_type  \\\n",
       "0       Car Loan        16795       0.051852         15   Self-employed   \n",
       "1  Personal Loan         1860       0.089296         56       Full-time   \n",
       "2  Personal Loan        77820       0.070470         51       Full-time   \n",
       "3       Car Loan        55886       0.062155         30       Full-time   \n",
       "4      Home Loan         7265       0.070635         48       Part-time   \n",
       "\n",
       "  income_level  credit_score  gender marital_status education_level  \\\n",
       "0       Medium           833    Male         Single          Master   \n",
       "1       Medium           776  Female        Married        Bachelor   \n",
       "2          Low           697    Male       Divorced     High School   \n",
       "3          Low           795  Female        Married             PhD   \n",
       "4          Low           519  Female        Married     High School   \n",
       "\n",
       "   default_status  \n",
       "0               0  \n",
       "1               0  \n",
       "2               0  \n",
       "3               0  \n",
       "4               0  "
      ]
     },
     "execution_count": 3,
     "metadata": {},
     "output_type": "execute_result"
    }
   ],
   "source": [
    "df.head() # Checking contents from the loaded dataset. The \"default_status\" column was already converted into numerical values \n",
    "          # where FALSE = 0 and TRUE = 1"
   ]
  },
  {
   "cell_type": "code",
   "execution_count": 4,
   "id": "3fca53d7-5b9a-4884-866a-31752faccc9f",
   "metadata": {},
   "outputs": [
    {
     "name": "stdout",
     "output_type": "stream",
     "text": [
      "<class 'pandas.core.frame.DataFrame'>\n",
      "RangeIndex: 5000 entries, 0 to 4999\n",
      "Data columns (total 11 columns):\n",
      " #   Column           Non-Null Count  Dtype  \n",
      "---  ------           --------------  -----  \n",
      " 0   loan_type        5000 non-null   object \n",
      " 1   loan_amount      5000 non-null   int64  \n",
      " 2   interest_rate    5000 non-null   float64\n",
      " 3   loan_term        5000 non-null   int64  \n",
      " 4   employment_type  5000 non-null   object \n",
      " 5   income_level     5000 non-null   object \n",
      " 6   credit_score     5000 non-null   int64  \n",
      " 7   gender           5000 non-null   object \n",
      " 8   marital_status   5000 non-null   object \n",
      " 9   education_level  5000 non-null   object \n",
      " 10  default_status   5000 non-null   int64  \n",
      "dtypes: float64(1), int64(4), object(6)\n",
      "memory usage: 429.8+ KB\n"
     ]
    }
   ],
   "source": [
    "df.info() # Checking for null values and data type"
   ]
  },
  {
   "cell_type": "markdown",
   "id": "38c52a6e-90bc-4df9-8f22-c30c251e3b27",
   "metadata": {},
   "source": [
    "## Data Transformation"
   ]
  },
  {
   "cell_type": "code",
   "execution_count": 5,
   "id": "4a6c2cb5-bcec-4283-b17e-89f56d534044",
   "metadata": {},
   "outputs": [
    {
     "data": {
      "text/plain": [
       "array([0, 1], dtype=int64)"
      ]
     },
     "execution_count": 5,
     "metadata": {},
     "output_type": "execute_result"
    }
   ],
   "source": [
    "df['default_status'].unique() # Checking for data type of each column and converted data"
   ]
  },
  {
   "cell_type": "code",
   "execution_count": 6,
   "id": "80deef21-6e72-4f51-bd95-a180d0fd8309",
   "metadata": {},
   "outputs": [],
   "source": [
    "# Conversion of data from categorical to numerical\n",
    "df['loan_type'] = df['loan_type'].map({'Car Loan':0, 'Personal Loan':1, 'Home Loan':2, 'Education Loan':3}).astype('int')\n",
    "df['employment_type'] = df['employment_type'].map({'Self-employed':2, 'Full-time':1, 'Part-time':0}).astype('int')\n",
    "df['income_level'] = df['income_level'].map({'Medium':1, 'Low':0, 'High':2}).astype('int')\n",
    "df['gender'] = df['gender'].map({'Male':1, 'Female':0}).astype('int')\n",
    "df['marital_status'] = df['marital_status'].map({'Single':0, 'Married':1, 'Divorced':2}).astype('int')\n",
    "df['education_level'] = df['education_level'].map({'Master':2, 'Bachelor':1, 'High School':0, 'PhD':3}).astype('int')"
   ]
  },
  {
   "cell_type": "code",
   "execution_count": 7,
   "id": "544f4841-d254-4132-890b-1ebee114d1ba",
   "metadata": {},
   "outputs": [
    {
     "name": "stdout",
     "output_type": "stream",
     "text": [
      "<class 'pandas.core.frame.DataFrame'>\n",
      "RangeIndex: 5000 entries, 0 to 4999\n",
      "Data columns (total 11 columns):\n",
      " #   Column           Non-Null Count  Dtype  \n",
      "---  ------           --------------  -----  \n",
      " 0   loan_type        5000 non-null   int32  \n",
      " 1   loan_amount      5000 non-null   int64  \n",
      " 2   interest_rate    5000 non-null   float64\n",
      " 3   loan_term        5000 non-null   int64  \n",
      " 4   employment_type  5000 non-null   int32  \n",
      " 5   income_level     5000 non-null   int32  \n",
      " 6   credit_score     5000 non-null   int64  \n",
      " 7   gender           5000 non-null   int32  \n",
      " 8   marital_status   5000 non-null   int32  \n",
      " 9   education_level  5000 non-null   int32  \n",
      " 10  default_status   5000 non-null   int64  \n",
      "dtypes: float64(1), int32(6), int64(4)\n",
      "memory usage: 312.6 KB\n"
     ]
    }
   ],
   "source": [
    "df.info() # Checking for converted data type. To proceed with modeling, all data type should be numerical."
   ]
  },
  {
   "cell_type": "code",
   "execution_count": 8,
   "id": "20a81ba9-3a18-420e-9bfc-f2608d9f5f8a",
   "metadata": {},
   "outputs": [
    {
     "data": {
      "text/html": [
       "<div>\n",
       "<style scoped>\n",
       "    .dataframe tbody tr th:only-of-type {\n",
       "        vertical-align: middle;\n",
       "    }\n",
       "\n",
       "    .dataframe tbody tr th {\n",
       "        vertical-align: top;\n",
       "    }\n",
       "\n",
       "    .dataframe thead th {\n",
       "        text-align: right;\n",
       "    }\n",
       "</style>\n",
       "<table border=\"1\" class=\"dataframe\">\n",
       "  <thead>\n",
       "    <tr style=\"text-align: right;\">\n",
       "      <th></th>\n",
       "      <th>loan_type</th>\n",
       "      <th>loan_amount</th>\n",
       "      <th>interest_rate</th>\n",
       "      <th>loan_term</th>\n",
       "      <th>employment_type</th>\n",
       "      <th>income_level</th>\n",
       "      <th>credit_score</th>\n",
       "      <th>gender</th>\n",
       "      <th>marital_status</th>\n",
       "      <th>education_level</th>\n",
       "      <th>default_status</th>\n",
       "    </tr>\n",
       "  </thead>\n",
       "  <tbody>\n",
       "    <tr>\n",
       "      <th>0</th>\n",
       "      <td>0</td>\n",
       "      <td>16795</td>\n",
       "      <td>0.051852</td>\n",
       "      <td>15</td>\n",
       "      <td>2</td>\n",
       "      <td>1</td>\n",
       "      <td>833</td>\n",
       "      <td>1</td>\n",
       "      <td>0</td>\n",
       "      <td>2</td>\n",
       "      <td>0</td>\n",
       "    </tr>\n",
       "    <tr>\n",
       "      <th>1</th>\n",
       "      <td>1</td>\n",
       "      <td>1860</td>\n",
       "      <td>0.089296</td>\n",
       "      <td>56</td>\n",
       "      <td>1</td>\n",
       "      <td>1</td>\n",
       "      <td>776</td>\n",
       "      <td>0</td>\n",
       "      <td>1</td>\n",
       "      <td>1</td>\n",
       "      <td>0</td>\n",
       "    </tr>\n",
       "    <tr>\n",
       "      <th>2</th>\n",
       "      <td>1</td>\n",
       "      <td>77820</td>\n",
       "      <td>0.070470</td>\n",
       "      <td>51</td>\n",
       "      <td>1</td>\n",
       "      <td>0</td>\n",
       "      <td>697</td>\n",
       "      <td>1</td>\n",
       "      <td>2</td>\n",
       "      <td>0</td>\n",
       "      <td>0</td>\n",
       "    </tr>\n",
       "    <tr>\n",
       "      <th>3</th>\n",
       "      <td>0</td>\n",
       "      <td>55886</td>\n",
       "      <td>0.062155</td>\n",
       "      <td>30</td>\n",
       "      <td>1</td>\n",
       "      <td>0</td>\n",
       "      <td>795</td>\n",
       "      <td>0</td>\n",
       "      <td>1</td>\n",
       "      <td>3</td>\n",
       "      <td>0</td>\n",
       "    </tr>\n",
       "    <tr>\n",
       "      <th>4</th>\n",
       "      <td>2</td>\n",
       "      <td>7265</td>\n",
       "      <td>0.070635</td>\n",
       "      <td>48</td>\n",
       "      <td>0</td>\n",
       "      <td>0</td>\n",
       "      <td>519</td>\n",
       "      <td>0</td>\n",
       "      <td>1</td>\n",
       "      <td>0</td>\n",
       "      <td>0</td>\n",
       "    </tr>\n",
       "  </tbody>\n",
       "</table>\n",
       "</div>"
      ],
      "text/plain": [
       "   loan_type  loan_amount  interest_rate  loan_term  employment_type  \\\n",
       "0          0        16795       0.051852         15                2   \n",
       "1          1         1860       0.089296         56                1   \n",
       "2          1        77820       0.070470         51                1   \n",
       "3          0        55886       0.062155         30                1   \n",
       "4          2         7265       0.070635         48                0   \n",
       "\n",
       "   income_level  credit_score  gender  marital_status  education_level  \\\n",
       "0             1           833       1               0                2   \n",
       "1             1           776       0               1                1   \n",
       "2             0           697       1               2                0   \n",
       "3             0           795       0               1                3   \n",
       "4             0           519       0               1                0   \n",
       "\n",
       "   default_status  \n",
       "0               0  \n",
       "1               0  \n",
       "2               0  \n",
       "3               0  \n",
       "4               0  "
      ]
     },
     "execution_count": 8,
     "metadata": {},
     "output_type": "execute_result"
    }
   ],
   "source": [
    "df.head() # Rreviewing data content. Data are on different ranges. Applying feature scaling will improve performance of algorithm"
   ]
  },
  {
   "cell_type": "code",
   "execution_count": 9,
   "id": "42099159-9529-4312-b290-2ff4ae708569",
   "metadata": {},
   "outputs": [],
   "source": [
    "# Setting data for X and y\n",
    "X = df.drop('default_status', axis=1)\n",
    "y = df['default_status']"
   ]
  },
  {
   "cell_type": "code",
   "execution_count": 10,
   "id": "aed13fbe-ce7d-43ca-987e-db68fb31c6ab",
   "metadata": {},
   "outputs": [
    {
     "data": {
      "text/plain": [
       "(5000, 10)"
      ]
     },
     "execution_count": 10,
     "metadata": {},
     "output_type": "execute_result"
    }
   ],
   "source": [
    "X.shape"
   ]
  },
  {
   "cell_type": "code",
   "execution_count": 11,
   "id": "02815840-41cf-4ec5-8b88-4abf4d5ff7a2",
   "metadata": {},
   "outputs": [
    {
     "data": {
      "text/plain": [
       "(5000,)"
      ]
     },
     "execution_count": 11,
     "metadata": {},
     "output_type": "execute_result"
    }
   ],
   "source": [
    "y.shape"
   ]
  },
  {
   "cell_type": "markdown",
   "id": "35f8178b-a85e-4e22-8c35-8ae022a0ac52",
   "metadata": {},
   "source": [
    "#### Feature Scaling"
   ]
  },
  {
   "cell_type": "code",
   "execution_count": 12,
   "id": "3d2f407d-cfe5-4124-bfff-ac930aec7dc1",
   "metadata": {},
   "outputs": [],
   "source": [
    "# Setting cols as variable for feature scaling\n",
    "cols = ['loan_amount', 'interest_rate', 'loan_term', 'credit_score']"
   ]
  },
  {
   "cell_type": "code",
   "execution_count": 13,
   "id": "98aef8a7-1a03-4efa-bd31-1195a0e3fdaf",
   "metadata": {},
   "outputs": [],
   "source": [
    "# Using RobustScaler for scaling\n",
    "from sklearn.preprocessing import RobustScaler\n",
    "st = RobustScaler()\n",
    "X[cols] = st.fit_transform(X[cols])"
   ]
  },
  {
   "cell_type": "code",
   "execution_count": 14,
   "id": "f225034f-d148-4be6-a75e-5e3f13f4d4d5",
   "metadata": {},
   "outputs": [
    {
     "data": {
      "text/html": [
       "<div>\n",
       "<style scoped>\n",
       "    .dataframe tbody tr th:only-of-type {\n",
       "        vertical-align: middle;\n",
       "    }\n",
       "\n",
       "    .dataframe tbody tr th {\n",
       "        vertical-align: top;\n",
       "    }\n",
       "\n",
       "    .dataframe thead th {\n",
       "        text-align: right;\n",
       "    }\n",
       "</style>\n",
       "<table border=\"1\" class=\"dataframe\">\n",
       "  <thead>\n",
       "    <tr style=\"text-align: right;\">\n",
       "      <th></th>\n",
       "      <th>loan_type</th>\n",
       "      <th>loan_amount</th>\n",
       "      <th>interest_rate</th>\n",
       "      <th>loan_term</th>\n",
       "      <th>employment_type</th>\n",
       "      <th>income_level</th>\n",
       "      <th>credit_score</th>\n",
       "      <th>gender</th>\n",
       "      <th>marital_status</th>\n",
       "      <th>education_level</th>\n",
       "    </tr>\n",
       "  </thead>\n",
       "  <tbody>\n",
       "    <tr>\n",
       "      <th>0</th>\n",
       "      <td>0</td>\n",
       "      <td>-0.656992</td>\n",
       "      <td>-1.334365</td>\n",
       "      <td>-0.869565</td>\n",
       "      <td>2</td>\n",
       "      <td>1</td>\n",
       "      <td>0.945848</td>\n",
       "      <td>1</td>\n",
       "      <td>0</td>\n",
       "      <td>2</td>\n",
       "    </tr>\n",
       "    <tr>\n",
       "      <th>1</th>\n",
       "      <td>1</td>\n",
       "      <td>-0.954917</td>\n",
       "      <td>0.470603</td>\n",
       "      <td>0.913043</td>\n",
       "      <td>1</td>\n",
       "      <td>1</td>\n",
       "      <td>0.740072</td>\n",
       "      <td>0</td>\n",
       "      <td>1</td>\n",
       "      <td>1</td>\n",
       "    </tr>\n",
       "    <tr>\n",
       "      <th>2</th>\n",
       "      <td>1</td>\n",
       "      <td>0.560343</td>\n",
       "      <td>-0.436900</td>\n",
       "      <td>0.695652</td>\n",
       "      <td>1</td>\n",
       "      <td>0</td>\n",
       "      <td>0.454874</td>\n",
       "      <td>1</td>\n",
       "      <td>2</td>\n",
       "      <td>0</td>\n",
       "    </tr>\n",
       "    <tr>\n",
       "      <th>3</th>\n",
       "      <td>0</td>\n",
       "      <td>0.122801</td>\n",
       "      <td>-0.837700</td>\n",
       "      <td>-0.217391</td>\n",
       "      <td>1</td>\n",
       "      <td>0</td>\n",
       "      <td>0.808664</td>\n",
       "      <td>0</td>\n",
       "      <td>1</td>\n",
       "      <td>3</td>\n",
       "    </tr>\n",
       "    <tr>\n",
       "      <th>4</th>\n",
       "      <td>2</td>\n",
       "      <td>-0.847098</td>\n",
       "      <td>-0.428934</td>\n",
       "      <td>0.565217</td>\n",
       "      <td>0</td>\n",
       "      <td>0</td>\n",
       "      <td>-0.187726</td>\n",
       "      <td>0</td>\n",
       "      <td>1</td>\n",
       "      <td>0</td>\n",
       "    </tr>\n",
       "    <tr>\n",
       "      <th>...</th>\n",
       "      <td>...</td>\n",
       "      <td>...</td>\n",
       "      <td>...</td>\n",
       "      <td>...</td>\n",
       "      <td>...</td>\n",
       "      <td>...</td>\n",
       "      <td>...</td>\n",
       "      <td>...</td>\n",
       "      <td>...</td>\n",
       "      <td>...</td>\n",
       "    </tr>\n",
       "    <tr>\n",
       "      <th>4995</th>\n",
       "      <td>0</td>\n",
       "      <td>-0.235089</td>\n",
       "      <td>-0.455318</td>\n",
       "      <td>0.956522</td>\n",
       "      <td>2</td>\n",
       "      <td>2</td>\n",
       "      <td>-0.216606</td>\n",
       "      <td>1</td>\n",
       "      <td>1</td>\n",
       "      <td>3</td>\n",
       "    </tr>\n",
       "    <tr>\n",
       "      <th>4996</th>\n",
       "      <td>1</td>\n",
       "      <td>-0.015819</td>\n",
       "      <td>-1.114868</td>\n",
       "      <td>0.652174</td>\n",
       "      <td>0</td>\n",
       "      <td>1</td>\n",
       "      <td>-0.249097</td>\n",
       "      <td>1</td>\n",
       "      <td>0</td>\n",
       "      <td>3</td>\n",
       "    </tr>\n",
       "    <tr>\n",
       "      <th>4997</th>\n",
       "      <td>2</td>\n",
       "      <td>-0.842888</td>\n",
       "      <td>-0.738553</td>\n",
       "      <td>1.000000</td>\n",
       "      <td>1</td>\n",
       "      <td>2</td>\n",
       "      <td>-0.429603</td>\n",
       "      <td>0</td>\n",
       "      <td>0</td>\n",
       "      <td>0</td>\n",
       "    </tr>\n",
       "    <tr>\n",
       "      <th>4998</th>\n",
       "      <td>0</td>\n",
       "      <td>0.060363</td>\n",
       "      <td>0.741455</td>\n",
       "      <td>-1.000000</td>\n",
       "      <td>2</td>\n",
       "      <td>1</td>\n",
       "      <td>0.566787</td>\n",
       "      <td>1</td>\n",
       "      <td>1</td>\n",
       "      <td>3</td>\n",
       "    </tr>\n",
       "    <tr>\n",
       "      <th>4999</th>\n",
       "      <td>1</td>\n",
       "      <td>0.825274</td>\n",
       "      <td>0.206698</td>\n",
       "      <td>0.739130</td>\n",
       "      <td>2</td>\n",
       "      <td>0</td>\n",
       "      <td>0.054152</td>\n",
       "      <td>1</td>\n",
       "      <td>0</td>\n",
       "      <td>2</td>\n",
       "    </tr>\n",
       "  </tbody>\n",
       "</table>\n",
       "<p>5000 rows × 10 columns</p>\n",
       "</div>"
      ],
      "text/plain": [
       "      loan_type  loan_amount  interest_rate  loan_term  employment_type  \\\n",
       "0             0    -0.656992      -1.334365  -0.869565                2   \n",
       "1             1    -0.954917       0.470603   0.913043                1   \n",
       "2             1     0.560343      -0.436900   0.695652                1   \n",
       "3             0     0.122801      -0.837700  -0.217391                1   \n",
       "4             2    -0.847098      -0.428934   0.565217                0   \n",
       "...         ...          ...            ...        ...              ...   \n",
       "4995          0    -0.235089      -0.455318   0.956522                2   \n",
       "4996          1    -0.015819      -1.114868   0.652174                0   \n",
       "4997          2    -0.842888      -0.738553   1.000000                1   \n",
       "4998          0     0.060363       0.741455  -1.000000                2   \n",
       "4999          1     0.825274       0.206698   0.739130                2   \n",
       "\n",
       "      income_level  credit_score  gender  marital_status  education_level  \n",
       "0                1      0.945848       1               0                2  \n",
       "1                1      0.740072       0               1                1  \n",
       "2                0      0.454874       1               2                0  \n",
       "3                0      0.808664       0               1                3  \n",
       "4                0     -0.187726       0               1                0  \n",
       "...            ...           ...     ...             ...              ...  \n",
       "4995             2     -0.216606       1               1                3  \n",
       "4996             1     -0.249097       1               0                3  \n",
       "4997             2     -0.429603       0               0                0  \n",
       "4998             1      0.566787       1               1                3  \n",
       "4999             0      0.054152       1               0                2  \n",
       "\n",
       "[5000 rows x 10 columns]"
      ]
     },
     "execution_count": 14,
     "metadata": {},
     "output_type": "execute_result"
    }
   ],
   "source": [
    "# Cheking for the scaled value\n",
    "X"
   ]
  },
  {
   "cell_type": "markdown",
   "id": "cb904f1a-3090-4279-a236-547cacb462e2",
   "metadata": {},
   "source": [
    "### Model Training using Random Forest Classifier"
   ]
  },
  {
   "cell_type": "markdown",
   "id": "634626f6-9ee0-4161-8afe-268bb5a234d1",
   "metadata": {},
   "source": [
    "#### Random Forest Classifier"
   ]
  },
  {
   "cell_type": "code",
   "execution_count": 15,
   "id": "54c0be06-38c4-4a07-9974-ef1f3460fa4e",
   "metadata": {},
   "outputs": [],
   "source": [
    "from sklearn.model_selection import train_test_split\n",
    "X_train, X_test, y_train, y_test = train_test_split(X, y, random_state=42)"
   ]
  },
  {
   "cell_type": "code",
   "execution_count": 16,
   "id": "db19b49b-2e9f-4502-bc35-b606679e76c7",
   "metadata": {},
   "outputs": [],
   "source": [
    "from sklearn.ensemble import RandomForestClassifier\n",
    "clf = RandomForestClassifier()"
   ]
  },
  {
   "cell_type": "code",
   "execution_count": 17,
   "id": "b91153ed-d65a-4f1f-b198-ca85fddc9324",
   "metadata": {},
   "outputs": [
    {
     "data": {
      "text/html": [
       "<style>#sk-container-id-1 {color: black;background-color: white;}#sk-container-id-1 pre{padding: 0;}#sk-container-id-1 div.sk-toggleable {background-color: white;}#sk-container-id-1 label.sk-toggleable__label {cursor: pointer;display: block;width: 100%;margin-bottom: 0;padding: 0.3em;box-sizing: border-box;text-align: center;}#sk-container-id-1 label.sk-toggleable__label-arrow:before {content: \"▸\";float: left;margin-right: 0.25em;color: #696969;}#sk-container-id-1 label.sk-toggleable__label-arrow:hover:before {color: black;}#sk-container-id-1 div.sk-estimator:hover label.sk-toggleable__label-arrow:before {color: black;}#sk-container-id-1 div.sk-toggleable__content {max-height: 0;max-width: 0;overflow: hidden;text-align: left;background-color: #f0f8ff;}#sk-container-id-1 div.sk-toggleable__content pre {margin: 0.2em;color: black;border-radius: 0.25em;background-color: #f0f8ff;}#sk-container-id-1 input.sk-toggleable__control:checked~div.sk-toggleable__content {max-height: 200px;max-width: 100%;overflow: auto;}#sk-container-id-1 input.sk-toggleable__control:checked~label.sk-toggleable__label-arrow:before {content: \"▾\";}#sk-container-id-1 div.sk-estimator input.sk-toggleable__control:checked~label.sk-toggleable__label {background-color: #d4ebff;}#sk-container-id-1 div.sk-label input.sk-toggleable__control:checked~label.sk-toggleable__label {background-color: #d4ebff;}#sk-container-id-1 input.sk-hidden--visually {border: 0;clip: rect(1px 1px 1px 1px);clip: rect(1px, 1px, 1px, 1px);height: 1px;margin: -1px;overflow: hidden;padding: 0;position: absolute;width: 1px;}#sk-container-id-1 div.sk-estimator {font-family: monospace;background-color: #f0f8ff;border: 1px dotted black;border-radius: 0.25em;box-sizing: border-box;margin-bottom: 0.5em;}#sk-container-id-1 div.sk-estimator:hover {background-color: #d4ebff;}#sk-container-id-1 div.sk-parallel-item::after {content: \"\";width: 100%;border-bottom: 1px solid gray;flex-grow: 1;}#sk-container-id-1 div.sk-label:hover label.sk-toggleable__label {background-color: #d4ebff;}#sk-container-id-1 div.sk-serial::before {content: \"\";position: absolute;border-left: 1px solid gray;box-sizing: border-box;top: 0;bottom: 0;left: 50%;z-index: 0;}#sk-container-id-1 div.sk-serial {display: flex;flex-direction: column;align-items: center;background-color: white;padding-right: 0.2em;padding-left: 0.2em;position: relative;}#sk-container-id-1 div.sk-item {position: relative;z-index: 1;}#sk-container-id-1 div.sk-parallel {display: flex;align-items: stretch;justify-content: center;background-color: white;position: relative;}#sk-container-id-1 div.sk-item::before, #sk-container-id-1 div.sk-parallel-item::before {content: \"\";position: absolute;border-left: 1px solid gray;box-sizing: border-box;top: 0;bottom: 0;left: 50%;z-index: -1;}#sk-container-id-1 div.sk-parallel-item {display: flex;flex-direction: column;z-index: 1;position: relative;background-color: white;}#sk-container-id-1 div.sk-parallel-item:first-child::after {align-self: flex-end;width: 50%;}#sk-container-id-1 div.sk-parallel-item:last-child::after {align-self: flex-start;width: 50%;}#sk-container-id-1 div.sk-parallel-item:only-child::after {width: 0;}#sk-container-id-1 div.sk-dashed-wrapped {border: 1px dashed gray;margin: 0 0.4em 0.5em 0.4em;box-sizing: border-box;padding-bottom: 0.4em;background-color: white;}#sk-container-id-1 div.sk-label label {font-family: monospace;font-weight: bold;display: inline-block;line-height: 1.2em;}#sk-container-id-1 div.sk-label-container {text-align: center;}#sk-container-id-1 div.sk-container {/* jupyter's `normalize.less` sets `[hidden] { display: none; }` but bootstrap.min.css set `[hidden] { display: none !important; }` so we also need the `!important` here to be able to override the default hidden behavior on the sphinx rendered scikit-learn.org. See: https://github.com/scikit-learn/scikit-learn/issues/21755 */display: inline-block !important;position: relative;}#sk-container-id-1 div.sk-text-repr-fallback {display: none;}</style><div id=\"sk-container-id-1\" class=\"sk-top-container\"><div class=\"sk-text-repr-fallback\"><pre>RandomForestClassifier()</pre><b>In a Jupyter environment, please rerun this cell to show the HTML representation or trust the notebook. <br />On GitHub, the HTML representation is unable to render, please try loading this page with nbviewer.org.</b></div><div class=\"sk-container\" hidden><div class=\"sk-item\"><div class=\"sk-estimator sk-toggleable\"><input class=\"sk-toggleable__control sk-hidden--visually\" id=\"sk-estimator-id-1\" type=\"checkbox\" checked><label for=\"sk-estimator-id-1\" class=\"sk-toggleable__label sk-toggleable__label-arrow\">RandomForestClassifier</label><div class=\"sk-toggleable__content\"><pre>RandomForestClassifier()</pre></div></div></div></div></div>"
      ],
      "text/plain": [
       "RandomForestClassifier()"
      ]
     },
     "execution_count": 17,
     "metadata": {},
     "output_type": "execute_result"
    }
   ],
   "source": [
    "clf.fit(X_train, y_train)"
   ]
  },
  {
   "cell_type": "code",
   "execution_count": 18,
   "id": "e3890b86-a90a-4d70-a5ff-b906fa59f1c4",
   "metadata": {},
   "outputs": [],
   "source": [
    "y_pred = clf.predict(X_test)"
   ]
  },
  {
   "cell_type": "markdown",
   "id": "8c02310d-3d1d-42ce-a77b-13ea534b5c31",
   "metadata": {},
   "source": [
    "#### Feature importance"
   ]
  },
  {
   "cell_type": "code",
   "execution_count": 19,
   "id": "ab3eef8b-39fa-496c-9291-ccfcc836bfc8",
   "metadata": {},
   "outputs": [
    {
     "data": {
      "text/html": [
       "<div>\n",
       "<style scoped>\n",
       "    .dataframe tbody tr th:only-of-type {\n",
       "        vertical-align: middle;\n",
       "    }\n",
       "\n",
       "    .dataframe tbody tr th {\n",
       "        vertical-align: top;\n",
       "    }\n",
       "\n",
       "    .dataframe thead th {\n",
       "        text-align: right;\n",
       "    }\n",
       "</style>\n",
       "<table border=\"1\" class=\"dataframe\">\n",
       "  <thead>\n",
       "    <tr style=\"text-align: right;\">\n",
       "      <th></th>\n",
       "      <th>Importance</th>\n",
       "    </tr>\n",
       "  </thead>\n",
       "  <tbody>\n",
       "    <tr>\n",
       "      <th>interest_rate</th>\n",
       "      <td>0.200989</td>\n",
       "    </tr>\n",
       "    <tr>\n",
       "      <th>loan_amount</th>\n",
       "      <td>0.200648</td>\n",
       "    </tr>\n",
       "    <tr>\n",
       "      <th>credit_score</th>\n",
       "      <td>0.193229</td>\n",
       "    </tr>\n",
       "    <tr>\n",
       "      <th>loan_term</th>\n",
       "      <td>0.152956</td>\n",
       "    </tr>\n",
       "    <tr>\n",
       "      <th>education_level</th>\n",
       "      <td>0.053153</td>\n",
       "    </tr>\n",
       "    <tr>\n",
       "      <th>loan_type</th>\n",
       "      <td>0.050723</td>\n",
       "    </tr>\n",
       "    <tr>\n",
       "      <th>income_level</th>\n",
       "      <td>0.044471</td>\n",
       "    </tr>\n",
       "    <tr>\n",
       "      <th>marital_status</th>\n",
       "      <td>0.041698</td>\n",
       "    </tr>\n",
       "    <tr>\n",
       "      <th>employment_type</th>\n",
       "      <td>0.040090</td>\n",
       "    </tr>\n",
       "    <tr>\n",
       "      <th>gender</th>\n",
       "      <td>0.022044</td>\n",
       "    </tr>\n",
       "  </tbody>\n",
       "</table>\n",
       "</div>"
      ],
      "text/plain": [
       "                 Importance\n",
       "interest_rate      0.200989\n",
       "loan_amount        0.200648\n",
       "credit_score       0.193229\n",
       "loan_term          0.152956\n",
       "education_level    0.053153\n",
       "loan_type          0.050723\n",
       "income_level       0.044471\n",
       "marital_status     0.041698\n",
       "employment_type    0.040090\n",
       "gender             0.022044"
      ]
     },
     "execution_count": 19,
     "metadata": {},
     "output_type": "execute_result"
    }
   ],
   "source": [
    "pd.DataFrame(clf.feature_importances_, \n",
    "             index = X_train.columns, \n",
    "             columns=['Importance']).sort_values('Importance', ascending=False)"
   ]
  },
  {
   "cell_type": "markdown",
   "id": "2f7e93ca-76ac-41bf-a160-de33810882f5",
   "metadata": {},
   "source": [
    "The feature importance indicates the significance of each of the features in a model. Interest rate and Loan amount has the most influence in these features which has the highest importance value at approximately 19.9%. The second most important feature is the credit score, with an importance value just a little behind the top 2 around 19.2%. Larger loan amounts impact approval chances. Next is the loan term which has importance value of 15.4%. The rest are below 6% which means they have lesser impact when it comes to predicting if a borrower will default."
   ]
  },
  {
   "cell_type": "code",
   "execution_count": 20,
   "id": "23437e5e-9d33-4720-be1b-72980905b8f6",
   "metadata": {},
   "outputs": [
    {
     "data": {
      "text/plain": [
       "0.7976"
      ]
     },
     "execution_count": 20,
     "metadata": {},
     "output_type": "execute_result"
    }
   ],
   "source": [
    "from sklearn.metrics import accuracy_score\n",
    "accuracy_score(y_test, y_pred)"
   ]
  },
  {
   "cell_type": "markdown",
   "id": "7414eae9-5a7d-4826-b52d-b87551bd8b9e",
   "metadata": {},
   "source": [
    "The model’s accuracy on the test data is around 80.08% which is considerably good. Testing with cross validation score for more comparison."
   ]
  },
  {
   "cell_type": "code",
   "execution_count": 21,
   "id": "2c50c277-7bca-46b5-866a-d47167dc4f23",
   "metadata": {},
   "outputs": [
    {
     "data": {
      "text/plain": [
       "array([0.80266667, 0.79733333, 0.8       , 0.80266667, 0.80266667,\n",
       "       0.79733333, 0.8       , 0.8       , 0.79733333, 0.8       ])"
      ]
     },
     "execution_count": 21,
     "metadata": {},
     "output_type": "execute_result"
    }
   ],
   "source": [
    "from sklearn.model_selection import cross_val_score\n",
    "cross_val_score(clf, X_train, y_train, cv=10)"
   ]
  },
  {
   "cell_type": "markdown",
   "id": "7cd93f68-0bf8-41ce-b1c1-f6bb34fcd7f6",
   "metadata": {},
   "source": [
    "Cross-validation results indicate consistent performance across different folds."
   ]
  }
 ],
 "metadata": {
  "kernelspec": {
   "display_name": "Python 3 (ipykernel)",
   "language": "python",
   "name": "python3"
  },
  "language_info": {
   "codemirror_mode": {
    "name": "ipython",
    "version": 3
   },
   "file_extension": ".py",
   "mimetype": "text/x-python",
   "name": "python",
   "nbconvert_exporter": "python",
   "pygments_lexer": "ipython3",
   "version": "3.11.5"
  }
 },
 "nbformat": 4,
 "nbformat_minor": 5
}
